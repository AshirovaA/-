{
  "cells": [
    {
      "cell_type": "markdown",
      "metadata": {
        "id": "view-in-github",
        "colab_type": "text"
      },
      "source": [
        "<a href=\"https://colab.research.google.com/github/AshirovaA/-/blob/main/tic_tac_toe_py.ipynb\" target=\"_parent\"><img src=\"https://colab.research.google.com/assets/colab-badge.svg\" alt=\"Open In Colab\"/></a>"
      ]
    },
    {
      "cell_type": "code",
      "execution_count": null,
      "metadata": {
        "colab": {
          "base_uri": "https://localhost:8080/"
        },
        "id": "IW_JdxaiBy9b",
        "outputId": "cdd1a4f2-2dbf-4254-9dcb-95098009461b"
      },
      "outputs": [
        {
          "output_type": "stream",
          "name": "stdout",
          "text": [
            "-------------\n",
            "|   |   |   |\n",
            "-------------\n",
            "|   |   |   |\n",
            "-------------\n",
            "|   |   |   |\n",
            "-------------\n"
          ]
        }
      ],
      "source": [
        "import random\n",
        "\n",
        "def draw_board(board):\n",
        "   print(\"-\" * 13)\n",
        "   for i in range(3):\n",
        "      print(\"|\", board[0+i*3], \"|\", board[1+i*3], \"|\", board[2+i*3], \"|\")\n",
        "      print(\"-\" * 13)\n",
        "\n",
        "def get_player_move(board, player_symbol):\n",
        "    #Функция запрашивает у игрока ход и проверяет его на корректность.\n",
        "\n",
        "    while True:\n",
        "        move = input('Введите номер клетки (от 1 до 9): ')     #Принимает список из девяти элементов, представляющих игровое поле, и символ, которым играет игрок (X или O).\n",
        "\n",
        "        if move.isdigit():     #Возвращает номер клетки, куда игрок хочет сделать ход.\n",
        "            move = int(move)\n",
        "            if 1 <= move <= 9 and board[move - 1] == ' ':\n",
        "                return move\n",
        "        print('Некорректный ход. Попробуйте еще раз.')\n",
        "\n",
        "def get_computer_move(board, computer_symbol):\n",
        "    #Функция генерирует случайный ход компьютера.\n",
        "\n",
        "    while True:\n",
        "        move = random.randint(1, 9)     #Принимает список из девяти элементов, представляющих игровое поле,\n",
        "        if board[move - 1] == ' ':\n",
        "            return move\n",
        "\n",
        "def check_win(board, player_symbol):\n",
        "\n",
        "    #Функция проверяет, есть ли победитель в игре.\n",
        "\n",
        "    win_patterns = [[0, 1, 2], [3, 4, 5], [6, 7, 8],\n",
        "        [0, 3, 6], [1, 4, 7], [2, 5, 8],\n",
        "        [0, 4, 8], [2, 4, 6]]\n",
        "    for pattern in win_patterns:\n",
        "        if board[pattern[0]] == board[pattern[1]] == board[pattern[2]] == player_symbol:\n",
        "            return True #Если выиграл\n",
        "    return False #Проиграл\n",
        "\n",
        "def main():\n",
        "\n",
        "    #Функция запускает игру.\n",
        "\n",
        "    board = [' '] * 9  #Создает список из девяти элементов, представляющих игровое поле,\n",
        "    player_symbol = 'X'\n",
        "    computer_symbol = 'O'\n",
        "\n",
        "    while True:\n",
        "        draw_board(board)\n",
        "\n",
        "        # Ход игрока\n",
        "        player_move = get_player_move(board, player_symbol)\n",
        "        board[player_move - 1] = player_symbol\n",
        "\n",
        "        #Проверяем, есть ли победитель\n",
        "        if check_win(board, player_symbol):\n",
        "            draw_board(board)\n",
        "            print('Вы победили!')\n",
        "            break\n",
        "\n",
        "        #Проверяем, закончилась ли свободная клетка\n",
        "        if ' ' not in board:\n",
        "            draw_board(board)\n",
        "            print('Ничья!')\n",
        "            break\n",
        "\n",
        "        draw_board(board)\n",
        "\n",
        "        #Ход компьютера\n",
        "        computer_move = get_computer_move(board, computer_symbol)\n",
        "        board[computer_move - 1] = computer_symbol\n",
        "\n",
        "        #Проверяем, есть ли проигравший\n",
        "        if check_win(board, computer_symbol):\n",
        "            draw_board(board)\n",
        "            print('Вы проиграли')\n",
        "            break\n",
        "\n",
        "if __name__ == '__main__':\n",
        "    main()\n",
        "\n"
      ]
    }
  ],
  "metadata": {
    "colab": {
      "provenance": [],
      "authorship_tag": "ABX9TyNr1f/GdmMp5x0+3iGkisOE",
      "include_colab_link": true
    },
    "kernelspec": {
      "display_name": "Python 3",
      "name": "python3"
    },
    "language_info": {
      "name": "python"
    }
  },
  "nbformat": 4,
  "nbformat_minor": 0
}